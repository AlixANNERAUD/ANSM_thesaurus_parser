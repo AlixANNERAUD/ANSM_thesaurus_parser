{
 "cells": [
  {
   "cell_type": "code",
   "execution_count": 3,
   "metadata": {},
   "outputs": [],
   "source": [
    "import pdfplumber\n",
    "import pandas\n",
    "import numpy\n",
    "import json"
   ]
  },
  {
   "cell_type": "markdown",
   "metadata": {},
   "source": [
    "# 1. Get the document\n",
    "\n",
    "You can get the document from this page : [Thesaurus des interactions médicamenteuses](https://ansm.sante.fr/documents/reference/thesaurus-des-interactions-medicamenteuses-1)"
   ]
  },
  {
   "cell_type": "code",
   "execution_count": 4,
   "metadata": {},
   "outputs": [],
   "source": [
    "pdf = pdfplumber.open(\"thesaurus.pdf\")\n",
    "\n",
    "pages = pdf.pages"
   ]
  },
  {
   "cell_type": "markdown",
   "metadata": {},
   "source": [
    "# 2. Extracting"
   ]
  },
  {
   "cell_type": "code",
   "execution_count": 5,
   "metadata": {},
   "outputs": [],
   "source": [
    "example_page = 227\n",
    "resolution = 100"
   ]
  },
  {
   "cell_type": "markdown",
   "metadata": {},
   "source": [
    "## Extract two columns content\n",
    "\n",
    "Two columns content contains the description of the interaction.\n",
    "\n",
    "\n",
    "We define the following settings :"
   ]
  },
  {
   "cell_type": "code",
   "execution_count": 6,
   "metadata": {},
   "outputs": [],
   "source": [
    "settings_two_columns = {\n",
    "    # Use only lines defined in \"explicit_vertical_lines\"\n",
    "    \"vertical_strategy\": \"explicit\",  \n",
    "    # Use only lines defined in the document and \"explicit_horizontal_lines\"\n",
    "    \"horizontal_strategy\": \"lines\",  \n",
    "    # Explicitly specify the left, center, and right boundaries of each column (the document is poorly formated)\n",
    "    \"explicit_vertical_lines\": [\n",
    "        25,\n",
    "        310,\n",
    "        560,\n",
    "    ],\n",
    "    # Explicitly specify the top and bottom boundaries of each row\n",
    "    \"explicit_horizontal_lines\": [\n",
    "        820\n",
    "    ],  # Explicitly specify the top and bottom boundaries of each row\n",
    "    \"intersection_x_tolerance\": 300,\n",
    "}"
   ]
  },
  {
   "cell_type": "markdown",
   "metadata": {},
   "source": [
    "### Example"
   ]
  },
  {
   "cell_type": "code",
   "execution_count": 7,
   "metadata": {},
   "outputs": [
    {
     "data": {
      "application/vnd.microsoft.datawrangler.viewer.v0+json": {
       "columns": [
        {
         "name": "index",
         "rawType": "int64",
         "type": "integer"
        },
        {
         "name": "left",
         "rawType": "object",
         "type": "string"
        },
        {
         "name": "right",
         "rawType": "object",
         "type": "string"
        }
       ],
       "conversionMethod": "pd.DataFrame",
       "ref": "ceb784b4-2d7c-4f80-a902-63e1f5c939ad",
       "rows": [
        [
         "0",
         "+ZINC",
         ""
        ],
        [
         "1",
         "Diminution de l'absorption digestive du strontium.",
         "Précaution d'emploi\nPrendre le strontium à distance des sels de zinc (plus de deux heures,\nsi possible)."
        ],
        [
         "2",
         "SUBSTANCES À ABSORPTION RÉDUITE PAR LES TOPIQU\nADSORBANTS\n(acide acetylsalicylique, acide alendronique, acide clodronique, acide etidronique, acide ib\nacide tiludronique, acide zoledronique, alimemazine, atenolol, betamethasone, bictégravir\nclindamycine, cortisone, cyamemazine, demeclocycline, dexamethasone, digoxine, doluté\nfexofenadine, fluor, fluphenazine, isoniazide, lansoprazole, lédipasvir, levofloxacine, levo\nlymecycline, methylenecycline, methylprednisolone, metopimazine, metoprolol, minocycli\noxytetracycline, pefloxacine, penicillamine, phosphore, piperazine, pipotiazine, prednisolo\nraltégravir, ranitidine, rosuvastatine, roxadustat, sulpiride, tériflunomide, tetracycline, thyro",
         "ES GASTRO-INTESTINAUX, ANTIACIDES ET\nandronique, acide oxidronique, acide pamidronique, acide risedronique,\n, budesonide, chlorpromazine, chlortetracycline, cimetidine, ciprofloxacine,\ngravir, doxycycline, elvitégravir, enoxacine, ethambutol, famotidine, fer,\nmepromazine, levothyroxine, lincomycine, liothyronine sodique, lomefloxacine,\nne, moxifloxacine, nizatidine, norfloxacine, ofloxacine, oxomemazine,\nne, prednisone, proguanil, promethazine, propericiazine, propranolol,\nxines, tigecycline, tiratricol, triamcinolone, ulipristal)"
        ],
        [
         "3",
         "+TOPIQUES GASTRO-INTESTINAUX, ANTIACIDES ET ADSORBANTS",
         ""
        ],
        [
         "4",
         "Diminution de l'absorption de ces substances.",
         "ASDEC - PE\nAssociation déconseillée:\n- avec les inhibiteurs d'intégrase (raltégravir, bictégravir, dolutégravir,\ncabotégravir)\nPrécaution d'emploi:\n- avec les autres substances.\nPar mesure de précaution, il convient de prendre ces topiques ou\nantiacides à distance de tout autre médicament (plus de 2 heures, si\npossible)."
        ],
        [
         "5",
         "SUBSTANCES SUSCEPTIBLES DE DONNER DES TORSAD\nCe trouble du rythme cardiaque grave peut être provoqué par un certain nombre de médi\nhypokaliémiants) est un facteur favorisant, de même que la bradycardie (cf. médicaments\nou acquis.\nLes médicaments à l’origine de cet effet indésirable sont notamment les antiarythmiques\nn’appartenant pas à ces classes sont également en cause.\nPour l’érythromycine et la vincamine, seules les formes administrées par voie intraveineu\nL'utilisation d'un médicament torsadogène avec un autre médicament torsadogène est co\nCertains d’entre eux, en raison de leur caractère incontournable, font exception à la règle,\nantiparasitaires (chloroquine, halofantrine, luméfantrine, pentamidine), de l'arsénieux, de l\nneuroleptiques.\nA noter que le citalopram, l’escitalopram, la dompéridone, l'hydroxyzine et la pipéraquine\ntorsadogènes, suite à un arbitrage européen.\n(amiodarone, amisulpride, arsenieux, chloroquine, chlorpromazine, citalopram, cocaine, c\ndroperidol, erythromycine, escitalopram, flupentixol, fluphenazine, halofantrine, haloperido\nlumefantrine, mequitazine, methadone, moxifloxacine, pentamidine, pimozide, pipampero\ntoremifene, vandétanib, vincamine, zuclopenthixol)",
         "ES DE POINTES\ncaments, antiarythmiques ou non. L'hypokaliémie (cf. médicaments\nbradycardisants) ou un allongement préexistant de l'intervalle QT, congénital\nde classe Ia et III, et certains neuroleptiques. D'autres molécules\nse sont concernées par cette interaction.\nntre-indiquée en règle générale.\nen étant seulement déconseillés avec les autres torsadogènes. Il s’agit des\n'hydroxychloroquine, de la méthadone, du crizotinib, du cotrimoxazole et des\nne suivent pas cet assouplissement, et sont contre-indiqués avec tous les\nrizotinib, cyamemazine, disopyramide, domperidone, dronedarone,\nl, hydroquinidine, hydroxychloroquine, hydroxyzine, levomepromazine,\nne, pipéraquine, pipotiazine, quinidine, sotalol, spiramycine, sulpiride, tiapride,"
        ],
        [
         "6",
         "",
         ""
        ],
        [
         "7",
         "+ANAGRELIDE",
         ""
        ],
        [
         "8",
         "Risque majoré de troubles du rythme ventriculaire, notamment de\ntorsades de pointes.",
         "Précaution d'emploi\nSurveillance clinique et électrocardiographique pendant\nl'association."
        ],
        [
         "9",
         "+ANTIPARASITAIRES SUSCEPTIBLES DE DONNER DES TORSADES DE",
         "POINTES"
        ],
        [
         "10",
         "Risque majoré de troubles du rythme ventriculaire, notamment de\ntorsades de pointes.",
         "CI - ASDEC\nContre-indication:\n- avec le citalopram, la dompéridone, l'escitalopram, l'hydroxyzine\net la pipéraquine.\nAssociation déconseillée:\n- avec les autres médicaments susceptibles de donner des torsades de\npointes.\nSi cela est possible, interrompre l'un des deux traitements. Si\nl'association ne peut être évitée, contrôle préalable du QT et\nsurveillance ECG monitorée."
        ],
        [
         "11",
         "+ARSENIEUX",
         ""
        ],
        [
         "12",
         "Risque majoré de troubles du rythme ventriculaires, notamment de\ntorsades de pointes.",
         "CI - ASDEC\nContre-indication :\n- avec le citalopram, la dompéridone, l'escitalopram, l'hydroxyzine et la\npipéraquine.\nAssociation déconseillée:\n- avec les autres médicaments susceptibles de donner des torsades de\npointes.\nSi l’association ne peut être évitée, contrôle clinique et\nélectrocardiographique régulier."
        ],
        [
         "13",
         "+AZITHROMYCINE",
         ""
        ],
        [
         "14",
         "Risque majoré de troubles du rythme ventriculaire, notamment de\ntorsades de pointes.",
         "Précaution d'emploi\nSurveillance clinique et électrocardiographique pendant l'association."
        ]
       ],
       "shape": {
        "columns": 2,
        "rows": 15
       }
      },
      "text/html": [
       "<div>\n",
       "<style scoped>\n",
       "    .dataframe tbody tr th:only-of-type {\n",
       "        vertical-align: middle;\n",
       "    }\n",
       "\n",
       "    .dataframe tbody tr th {\n",
       "        vertical-align: top;\n",
       "    }\n",
       "\n",
       "    .dataframe thead th {\n",
       "        text-align: right;\n",
       "    }\n",
       "</style>\n",
       "<table border=\"1\" class=\"dataframe\">\n",
       "  <thead>\n",
       "    <tr style=\"text-align: right;\">\n",
       "      <th></th>\n",
       "      <th>left</th>\n",
       "      <th>right</th>\n",
       "    </tr>\n",
       "  </thead>\n",
       "  <tbody>\n",
       "    <tr>\n",
       "      <th>0</th>\n",
       "      <td>+ZINC</td>\n",
       "      <td></td>\n",
       "    </tr>\n",
       "    <tr>\n",
       "      <th>1</th>\n",
       "      <td>Diminution de l'absorption digestive du stront...</td>\n",
       "      <td>Précaution d'emploi\\nPrendre le strontium à di...</td>\n",
       "    </tr>\n",
       "    <tr>\n",
       "      <th>2</th>\n",
       "      <td>SUBSTANCES À ABSORPTION RÉDUITE PAR LES TOPIQU...</td>\n",
       "      <td>ES GASTRO-INTESTINAUX, ANTIACIDES ET\\nandroniq...</td>\n",
       "    </tr>\n",
       "    <tr>\n",
       "      <th>3</th>\n",
       "      <td>+TOPIQUES GASTRO-INTESTINAUX, ANTIACIDES ET AD...</td>\n",
       "      <td></td>\n",
       "    </tr>\n",
       "    <tr>\n",
       "      <th>4</th>\n",
       "      <td>Diminution de l'absorption de ces substances.</td>\n",
       "      <td>ASDEC - PE\\nAssociation déconseillée:\\n- avec ...</td>\n",
       "    </tr>\n",
       "    <tr>\n",
       "      <th>5</th>\n",
       "      <td>SUBSTANCES SUSCEPTIBLES DE DONNER DES TORSAD\\n...</td>\n",
       "      <td>ES DE POINTES\\ncaments, antiarythmiques ou non...</td>\n",
       "    </tr>\n",
       "    <tr>\n",
       "      <th>6</th>\n",
       "      <td></td>\n",
       "      <td></td>\n",
       "    </tr>\n",
       "    <tr>\n",
       "      <th>7</th>\n",
       "      <td>+ANAGRELIDE</td>\n",
       "      <td></td>\n",
       "    </tr>\n",
       "    <tr>\n",
       "      <th>8</th>\n",
       "      <td>Risque majoré de troubles du rythme ventricula...</td>\n",
       "      <td>Précaution d'emploi\\nSurveillance clinique et ...</td>\n",
       "    </tr>\n",
       "    <tr>\n",
       "      <th>9</th>\n",
       "      <td>+ANTIPARASITAIRES SUSCEPTIBLES DE DONNER DES T...</td>\n",
       "      <td>POINTES</td>\n",
       "    </tr>\n",
       "    <tr>\n",
       "      <th>10</th>\n",
       "      <td>Risque majoré de troubles du rythme ventricula...</td>\n",
       "      <td>CI - ASDEC\\nContre-indication:\\n- avec le cita...</td>\n",
       "    </tr>\n",
       "    <tr>\n",
       "      <th>11</th>\n",
       "      <td>+ARSENIEUX</td>\n",
       "      <td></td>\n",
       "    </tr>\n",
       "    <tr>\n",
       "      <th>12</th>\n",
       "      <td>Risque majoré de troubles du rythme ventricula...</td>\n",
       "      <td>CI - ASDEC\\nContre-indication :\\n- avec le cit...</td>\n",
       "    </tr>\n",
       "    <tr>\n",
       "      <th>13</th>\n",
       "      <td>+AZITHROMYCINE</td>\n",
       "      <td></td>\n",
       "    </tr>\n",
       "    <tr>\n",
       "      <th>14</th>\n",
       "      <td>Risque majoré de troubles du rythme ventricula...</td>\n",
       "      <td>Précaution d'emploi\\nSurveillance clinique et ...</td>\n",
       "    </tr>\n",
       "  </tbody>\n",
       "</table>\n",
       "</div>"
      ],
      "text/plain": [
       "                                                 left  \\\n",
       "0                                               +ZINC   \n",
       "1   Diminution de l'absorption digestive du stront...   \n",
       "2   SUBSTANCES À ABSORPTION RÉDUITE PAR LES TOPIQU...   \n",
       "3   +TOPIQUES GASTRO-INTESTINAUX, ANTIACIDES ET AD...   \n",
       "4       Diminution de l'absorption de ces substances.   \n",
       "5   SUBSTANCES SUSCEPTIBLES DE DONNER DES TORSAD\\n...   \n",
       "6                                                       \n",
       "7                                         +ANAGRELIDE   \n",
       "8   Risque majoré de troubles du rythme ventricula...   \n",
       "9   +ANTIPARASITAIRES SUSCEPTIBLES DE DONNER DES T...   \n",
       "10  Risque majoré de troubles du rythme ventricula...   \n",
       "11                                         +ARSENIEUX   \n",
       "12  Risque majoré de troubles du rythme ventricula...   \n",
       "13                                     +AZITHROMYCINE   \n",
       "14  Risque majoré de troubles du rythme ventricula...   \n",
       "\n",
       "                                                right  \n",
       "0                                                      \n",
       "1   Précaution d'emploi\\nPrendre le strontium à di...  \n",
       "2   ES GASTRO-INTESTINAUX, ANTIACIDES ET\\nandroniq...  \n",
       "3                                                      \n",
       "4   ASDEC - PE\\nAssociation déconseillée:\\n- avec ...  \n",
       "5   ES DE POINTES\\ncaments, antiarythmiques ou non...  \n",
       "6                                                      \n",
       "7                                                      \n",
       "8   Précaution d'emploi\\nSurveillance clinique et ...  \n",
       "9                                             POINTES  \n",
       "10  CI - ASDEC\\nContre-indication:\\n- avec le cita...  \n",
       "11                                                     \n",
       "12  CI - ASDEC\\nContre-indication :\\n- avec le cit...  \n",
       "13                                                     \n",
       "14  Précaution d'emploi\\nSurveillance clinique et ...  "
      ]
     },
     "execution_count": 7,
     "metadata": {},
     "output_type": "execute_result"
    }
   ],
   "source": [
    "pandas.DataFrame(pages[example_page].extract_table(table_settings=settings_two_columns), columns=[\"left\", \"right\"])\n"
   ]
  },
  {
   "cell_type": "code",
   "execution_count": 8,
   "metadata": {},
   "outputs": [
    {
     "data": {
      "image/png": "[encoded data removed]",
      "text/plain": [
       "<pdfplumber.display.PageImage at 0x719b8ad4b770>"
      ]
     },
     "execution_count": 8,
     "metadata": {},
     "output_type": "execute_result"
    }
   ],
   "source": [
    "pages[example_page].to_image(resolution=resolution).debug_tablefinder(table_settings=settings_two_columns)"
   ]
  },
  {
   "cell_type": "markdown",
   "metadata": {},
   "source": [
    "## Extractions of one column content "
   ]
  },
  {
   "cell_type": "code",
   "execution_count": 9,
   "metadata": {},
   "outputs": [],
   "source": [
    "settings_single_column = {\n",
    "    # Use only lines defined in \"explicit_vertical_lines\"\n",
    "    \"vertical_strategy\": \"explicit\",\n",
    "    # Use only lines defined in the document and \"explicit_horizontal_lines\"\n",
    "    \"horizontal_strategy\": \"lines\",\n",
    "    # Explicitly specify the left, right boundaries of the column / table.\n",
    "    \"explicit_vertical_lines\": [25, 560],\n",
    "    # Explicitly specify the top and bottom boundaries of each table.\n",
    "    \"explicit_horizontal_lines\": [820],\n",
    "    # Set text to be split if the distance between two letters is greater than 5\n",
    "    \"intersection_x_tolerance\": 300,\n",
    "}"
   ]
  },
  {
   "cell_type": "markdown",
   "metadata": {},
   "source": [
    "### Example"
   ]
  },
  {
   "cell_type": "code",
   "execution_count": 10,
   "metadata": {},
   "outputs": [
    {
     "data": {
      "application/vnd.microsoft.datawrangler.viewer.v0+json": {
       "columns": [
        {
         "name": "index",
         "rawType": "int64",
         "type": "integer"
        },
        {
         "name": "0",
         "rawType": "object",
         "type": "string"
        }
       ],
       "conversionMethod": "pd.DataFrame",
       "ref": "0bf0e0c7-1dcf-4925-a233-a50ada9fe569",
       "rows": [
        [
         "0",
         "+ZINC"
        ],
        [
         "1",
         "Diminution de l'absorption digestive du strontium. Précaution d'emploi\nPrendre le strontium à distance des sels de zinc (plus de deux heures,\nsi possible)."
        ],
        [
         "2",
         "SUBSTANCES À ABSORPTION RÉDUITE PAR LES TOPIQUES GASTRO-INTESTINAUX, ANTIACIDES ET\nADSORBANTS\n(acide acetylsalicylique, acide alendronique, acide clodronique, acide etidronique, acide ibandronique, acide oxidronique, acide pamidronique, acide risedronique,\nacide tiludronique, acide zoledronique, alimemazine, atenolol, betamethasone, bictégravir, budesonide, chlorpromazine, chlortetracycline, cimetidine, ciprofloxacine,\nclindamycine, cortisone, cyamemazine, demeclocycline, dexamethasone, digoxine, dolutégravir, doxycycline, elvitégravir, enoxacine, ethambutol, famotidine, fer,\nfexofenadine, fluor, fluphenazine, isoniazide, lansoprazole, lédipasvir, levofloxacine, levomepromazine, levothyroxine, lincomycine, liothyronine sodique, lomefloxacine,\nlymecycline, methylenecycline, methylprednisolone, metopimazine, metoprolol, minocycline, moxifloxacine, nizatidine, norfloxacine, ofloxacine, oxomemazine,\noxytetracycline, pefloxacine, penicillamine, phosphore, piperazine, pipotiazine, prednisolone, prednisone, proguanil, promethazine, propericiazine, propranolol,\nraltégravir, ranitidine, rosuvastatine, roxadustat, sulpiride, tériflunomide, tetracycline, thyroxines, tigecycline, tiratricol, triamcinolone, ulipristal)"
        ],
        [
         "3",
         "+TOPIQUES GASTRO-INTESTINAUX, ANTIACIDES ET ADSORBANTS"
        ],
        [
         "4",
         "Diminution de l'absorption de ces substances. ASDEC - PE\nAssociation déconseillée:\n- avec les inhibiteurs d'intégrase (raltégravir, bictégravir, dolutégravir,\ncabotégravir)\nPrécaution d'emploi:\n- avec les autres substances.\nPar mesure de précaution, il convient de prendre ces topiques ou\nantiacides à distance de tout autre médicament (plus de 2 heures, si\npossible)."
        ],
        [
         "5",
         "SUBSTANCES SUSCEPTIBLES DE DONNER DES TORSADES DE POINTES\nCe trouble du rythme cardiaque grave peut être provoqué par un certain nombre de médicaments, antiarythmiques ou non. L'hypokaliémie (cf. médicaments\nhypokaliémiants) est un facteur favorisant, de même que la bradycardie (cf. médicaments bradycardisants) ou un allongement préexistant de l'intervalle QT, congénital\nou acquis.\nLes médicaments à l’origine de cet effet indésirable sont notamment les antiarythmiques de classe Ia et III, et certains neuroleptiques. D'autres molécules\nn’appartenant pas à ces classes sont également en cause.\nPour l’érythromycine et la vincamine, seules les formes administrées par voie intraveineuse sont concernées par cette interaction.\nL'utilisation d'un médicament torsadogène avec un autre médicament torsadogène est contre-indiquée en règle générale.\nCertains d’entre eux, en raison de leur caractère incontournable, font exception à la règle, en étant seulement déconseillés avec les autres torsadogènes. Il s’agit des\nantiparasitaires (chloroquine, halofantrine, luméfantrine, pentamidine), de l'arsénieux, de l'hydroxychloroquine, de la méthadone, du crizotinib, du cotrimoxazole et des\nneuroleptiques.\nA noter que le citalopram, l’escitalopram, la dompéridone, l'hydroxyzine et la pipéraquine ne suivent pas cet assouplissement, et sont contre-indiqués avec tous les\ntorsadogènes, suite à un arbitrage européen.\n(amiodarone, amisulpride, arsenieux, chloroquine, chlorpromazine, citalopram, cocaine, crizotinib, cyamemazine, disopyramide, domperidone, dronedarone,\ndroperidol, erythromycine, escitalopram, flupentixol, fluphenazine, halofantrine, haloperidol, hydroquinidine, hydroxychloroquine, hydroxyzine, levomepromazine,\nlumefantrine, mequitazine, methadone, moxifloxacine, pentamidine, pimozide, pipamperone, pipéraquine, pipotiazine, quinidine, sotalol, spiramycine, sulpiride, tiapride,\ntoremifene, vandétanib, vincamine, zuclopenthixol)"
        ],
        [
         "6",
         ""
        ],
        [
         "7",
         "+ANAGRELIDE"
        ],
        [
         "8",
         "Risque majoré de troubles du rythme ventriculaire, notamment de Précaution d'emploi\ntorsades de pointes.\nSurveillance clinique et électrocardiographique pendant\nl'association."
        ],
        [
         "9",
         "+ANTIPARASITAIRES SUSCEPTIBLES DE DONNER DES TORSADES DE POINTES"
        ],
        [
         "10",
         "Risque majoré de troubles du rythme ventriculaire, notamment de CI - ASDEC\ntorsades de pointes.\nContre-indication:\n- avec le citalopram, la dompéridone, l'escitalopram, l'hydroxyzine\net la pipéraquine.\nAssociation déconseillée:\n- avec les autres médicaments susceptibles de donner des torsades de\npointes.\nSi cela est possible, interrompre l'un des deux traitements. Si\nl'association ne peut être évitée, contrôle préalable du QT et\nsurveillance ECG monitorée."
        ],
        [
         "11",
         "+ARSENIEUX"
        ],
        [
         "12",
         "Risque majoré de troubles du rythme ventriculaires, notamment de CI - ASDEC\ntorsades de pointes.\nContre-indication :\n- avec le citalopram, la dompéridone, l'escitalopram, l'hydroxyzine et la\npipéraquine.\nAssociation déconseillée:\n- avec les autres médicaments susceptibles de donner des torsades de\npointes.\nSi l’association ne peut être évitée, contrôle clinique et\nélectrocardiographique régulier."
        ],
        [
         "13",
         "+AZITHROMYCINE"
        ],
        [
         "14",
         "Risque majoré de troubles du rythme ventriculaire, notamment de Précaution d'emploi\ntorsades de pointes.\nSurveillance clinique et électrocardiographique pendant l'association."
        ]
       ],
       "shape": {
        "columns": 1,
        "rows": 15
       }
      },
      "text/html": [
       "<div>\n",
       "<style scoped>\n",
       "    .dataframe tbody tr th:only-of-type {\n",
       "        vertical-align: middle;\n",
       "    }\n",
       "\n",
       "    .dataframe tbody tr th {\n",
       "        vertical-align: top;\n",
       "    }\n",
       "\n",
       "    .dataframe thead th {\n",
       "        text-align: right;\n",
       "    }\n",
       "</style>\n",
       "<table border=\"1\" class=\"dataframe\">\n",
       "  <thead>\n",
       "    <tr style=\"text-align: right;\">\n",
       "      <th></th>\n",
       "      <th>0</th>\n",
       "    </tr>\n",
       "  </thead>\n",
       "  <tbody>\n",
       "    <tr>\n",
       "      <th>0</th>\n",
       "      <td>+ZINC</td>\n",
       "    </tr>\n",
       "    <tr>\n",
       "      <th>1</th>\n",
       "      <td>Diminution de l'absorption digestive du stront...</td>\n",
       "    </tr>\n",
       "    <tr>\n",
       "      <th>2</th>\n",
       "      <td>SUBSTANCES À ABSORPTION RÉDUITE PAR LES TOPIQU...</td>\n",
       "    </tr>\n",
       "    <tr>\n",
       "      <th>3</th>\n",
       "      <td>+TOPIQUES GASTRO-INTESTINAUX, ANTIACIDES ET AD...</td>\n",
       "    </tr>\n",
       "    <tr>\n",
       "      <th>4</th>\n",
       "      <td>Diminution de l'absorption de ces substances. ...</td>\n",
       "    </tr>\n",
       "    <tr>\n",
       "      <th>5</th>\n",
       "      <td>SUBSTANCES SUSCEPTIBLES DE DONNER DES TORSADES...</td>\n",
       "    </tr>\n",
       "    <tr>\n",
       "      <th>6</th>\n",
       "      <td></td>\n",
       "    </tr>\n",
       "    <tr>\n",
       "      <th>7</th>\n",
       "      <td>+ANAGRELIDE</td>\n",
       "    </tr>\n",
       "    <tr>\n",
       "      <th>8</th>\n",
       "      <td>Risque majoré de troubles du rythme ventricula...</td>\n",
       "    </tr>\n",
       "    <tr>\n",
       "      <th>9</th>\n",
       "      <td>+ANTIPARASITAIRES SUSCEPTIBLES DE DONNER DES T...</td>\n",
       "    </tr>\n",
       "    <tr>\n",
       "      <th>10</th>\n",
       "      <td>Risque majoré de troubles du rythme ventricula...</td>\n",
       "    </tr>\n",
       "    <tr>\n",
       "      <th>11</th>\n",
       "      <td>+ARSENIEUX</td>\n",
       "    </tr>\n",
       "    <tr>\n",
       "      <th>12</th>\n",
       "      <td>Risque majoré de troubles du rythme ventricula...</td>\n",
       "    </tr>\n",
       "    <tr>\n",
       "      <th>13</th>\n",
       "      <td>+AZITHROMYCINE</td>\n",
       "    </tr>\n",
       "    <tr>\n",
       "      <th>14</th>\n",
       "      <td>Risque majoré de troubles du rythme ventricula...</td>\n",
       "    </tr>\n",
       "  </tbody>\n",
       "</table>\n",
       "</div>"
      ],
      "text/plain": [
       "                                                    0\n",
       "0                                               +ZINC\n",
       "1   Diminution de l'absorption digestive du stront...\n",
       "2   SUBSTANCES À ABSORPTION RÉDUITE PAR LES TOPIQU...\n",
       "3   +TOPIQUES GASTRO-INTESTINAUX, ANTIACIDES ET AD...\n",
       "4   Diminution de l'absorption de ces substances. ...\n",
       "5   SUBSTANCES SUSCEPTIBLES DE DONNER DES TORSADES...\n",
       "6                                                    \n",
       "7                                         +ANAGRELIDE\n",
       "8   Risque majoré de troubles du rythme ventricula...\n",
       "9   +ANTIPARASITAIRES SUSCEPTIBLES DE DONNER DES T...\n",
       "10  Risque majoré de troubles du rythme ventricula...\n",
       "11                                         +ARSENIEUX\n",
       "12  Risque majoré de troubles du rythme ventricula...\n",
       "13                                     +AZITHROMYCINE\n",
       "14  Risque majoré de troubles du rythme ventricula..."
      ]
     },
     "execution_count": 10,
     "metadata": {},
     "output_type": "execute_result"
    }
   ],
   "source": [
    "pandas.DataFrame(pages[example_page].extract_table(table_settings=settings_single_column))"
   ]
  },
  {
   "cell_type": "code",
   "execution_count": 11,
   "metadata": {},
   "outputs": [
    {
     "data": {
      "image/png": "[encoded data removed]",
      "text/plain": [
       "<pdfplumber.display.PageImage at 0x719b8a466850>"
      ]
     },
     "execution_count": 11,
     "metadata": {},
     "output_type": "execute_result"
    }
   ],
   "source": [
    "pages[example_page].to_image(resolution=resolution).debug_tablefinder(table_settings=settings_single_column)\n"
   ]
  },
  {
   "cell_type": "markdown",
   "metadata": {},
   "source": [
    "### All"
   ]
  },
  {
   "cell_type": "code",
   "execution_count": 12,
   "metadata": {},
   "outputs": [
    {
     "name": "stdout",
     "output_type": "stream",
     "text": [
      "Substance extraction page 262 / 262\n",
      "Description extraction page 262 / 262\n",
      "7138 substances extracted\n"
     ]
    }
   ],
   "source": [
    "pages_number = numpy.arange(2, len(pages))\n",
    "\n",
    "single_column_tables = []\n",
    "for i in pages_number:\n",
    "    print(f\"Substance extraction page {i} / {len(pages) - 1}\", end=\"\\r\", flush=True)\n",
    "    single_column_tables.extend(pages[i].extract_table(settings_single_column))\n",
    "\n",
    "print(\"\")\n",
    "\n",
    "two_column_tables = []\n",
    "for i in pages_number:\n",
    "    print(f\"Description extraction page {i} / {len(pages) - 1}\", end=\"\\r\", flush=True)\n",
    "    two_column_tables.extend(pages[i].extract_table(settings_two_columns))\n",
    "\n",
    "print(f\"\\n{len(single_column_tables)} substances extracted\")"
   ]
  },
  {
   "cell_type": "markdown",
   "metadata": {},
   "source": [
    "# 4. Formatting"
   ]
  },
  {
   "cell_type": "markdown",
   "metadata": {},
   "source": [
    "We identified the following patterns :\n",
    "- Interactions begin with a `+` character (and is in uppercase) : `+ANTISEPTIQUES MERCURIELS`\n",
    "- All substances are in uppercase, e.g. `POVIDONE IODÉE`\n",
    "- The substance description, if any, follows the substance name after a line break `\\n`.\n",
    "- Everything else is a description of the interaction.\n",
    "\n",
    "From this, we can format the tables as a JSON in the following format :\n",
    "\n",
    "```json\n",
    "[\n",
    "    {\n",
    "        \"name\": \"SUBSTANCE\",\n",
    "        \"description\": \"Description of the substance\",\n",
    "        \"interactions\": [\n",
    "            {\n",
    "                \"name\": \"INTERACTION 1\",\n",
    "                \"effect\": \"Effect of the interaction\",\n",
    "                \"advise\": \"Some advice\",\n",
    "                \"type\": [\n",
    "                    \"The type of interaction\"\n",
    "                ]\n",
    "            },\n",
    "            {\n",
    "                \"...\": \"...\"\n",
    "            }\n",
    "        ]\n",
    "    },\n",
    "    {\n",
    "        \"...\": \"...\"\n",
    "    }\n",
    "]\n",
    "```"
   ]
  },
  {
   "cell_type": "code",
   "execution_count": 13,
   "metadata": {},
   "outputs": [],
   "source": [
    "# Since our table extraction rely on the fact that the two lists index correspond to the same substance, we need to check if the lists have the same length\n",
    "assert len(single_column_tables) == len(two_column_tables)\n",
    "\n",
    "output = []\n",
    "\n",
    "current_interaction = {}\n",
    "current_substance = {}\n",
    "\n",
    "\n",
    "def format_description(string):\n",
    "    string = string.replace(\"\\n\", \" \")\n",
    "    return string\n",
    "\n",
    "\n",
    "for i in range(len(single_column_tables)):\n",
    "    both = single_column_tables[i][0].split(\"\\n\", 1)\n",
    "\n",
    "    left = two_column_tables[i][0]\n",
    "    right = two_column_tables[i][1]\n",
    "\n",
    "    \n",
    "\n",
    "    # Identify new interaction (col0 starts with \"+\")\n",
    "    if both[0].startswith(\"+\"):\n",
    "        if not current_substance:\n",
    "            continue\n",
    "\n",
    "        # Append the last interaction to the current substance\n",
    "        if current_interaction:\n",
    "            current_substance[\"interactions\"].append(current_interaction)\n",
    "        # Set new current interaction\n",
    "        name = both[0].replace(\"+\", \"\").strip()\n",
    "        current_interaction = {\n",
    "            \"name\": name,\n",
    "            \"effect\": \"\",\n",
    "            \"advise\": \"\",\n",
    "            \"type\": \"\",\n",
    "        }\n",
    "\n",
    "        continue\n",
    "\n",
    "\n",
    "    if both[0].isupper():\n",
    "        # Append current substance to output\n",
    "        if current_substance:\n",
    "            if current_interaction:\n",
    "                current_substance[\"interactions\"].append(current_interaction)\n",
    "                current_interaction = {}\n",
    "            output.append(current_substance)\n",
    "\n",
    "        name = both[0].strip()\n",
    "        description = \"\"\n",
    "        if len(both) > 1:\n",
    "            description = both[1].replace(\"\\n\", \" \")\n",
    "\n",
    "        # Reset interaction and substance\n",
    "        current_substance = {\n",
    "            \"name\": name,\n",
    "            \"description\": description,\n",
    "            \"interactions\": [],\n",
    "        }\n",
    "        continue\n",
    "\n",
    "    # If we're inside an interaction, append description\n",
    "    if current_interaction:\n",
    "\n",
    "        current_interaction[\"effect\"] += format_description(left) + \" \"\n",
    "\n",
    "        if current_interaction[\"type\"] == \"\":\n",
    "            split = right.split(\"\\n\", 1)\n",
    "\n",
    "            type = split[0].split(\" - \")\n",
    "\n",
    "            current_interaction[\"type\"] = type\n",
    "            if len(split) > 1:\n",
    "                current_interaction[\"advise\"] = format_description(split[1]) + \" \"\n",
    "        else:\n",
    "            current_interaction[\"advise\"] += format_description(right) + \" \""
   ]
  },
  {
   "cell_type": "code",
   "execution_count": 14,
   "metadata": {},
   "outputs": [
    {
     "data": {
      "text/plain": [
       "{'name': 'ABATACEPT',\n",
       " 'description': '',\n",
       " 'interactions': [{'name': 'ANTI-TNF ALPHA',\n",
       "   'effect': 'Majoration de l’immunodépression. ',\n",
       "   'advise': '',\n",
       "   'type': ['Association DECONSEILLEE']},\n",
       "  {'name': 'VACCINS VIVANTS ATTÉNUÉS',\n",
       "   'effect': 'Risque de maladie vaccinale généralisée, éventuellement mortelle. ',\n",
       "   'advise': \"ainsi que pendant les 3 mois suivant l'arrêt du traitement. \",\n",
       "   'type': ['Association DECONSEILLEE']}]}"
      ]
     },
     "execution_count": 14,
     "metadata": {},
     "output_type": "execute_result"
    }
   ],
   "source": [
    "output[0]"
   ]
  },
  {
   "cell_type": "markdown",
   "metadata": {},
   "source": [
    "# 5. Exporting"
   ]
  },
  {
   "cell_type": "code",
   "execution_count": 15,
   "metadata": {},
   "outputs": [],
   "source": [
    "with open(\"output.json\", \"w\", encoding=\"utf-8\") as file:\n",
    "    dump = json.dumps(output, indent=4, ensure_ascii=False)\n",
    "    file.write(dump)"
   ]
  }
 ],
 "metadata": {
  "kernelspec": {
   "display_name": ".venv",
   "language": "python",
   "name": "python3"
  },
  "language_info": {
   "codemirror_mode": {
    "name": "ipython",
    "version": 3
   },
   "file_extension": ".py",
   "mimetype": "text/x-python",
   "name": "python",
   "nbconvert_exporter": "python",
   "pygments_lexer": "ipython3",
   "version": "3.13.2"
  }
 },
 "nbformat": 4,
 "nbformat_minor": 2
}
